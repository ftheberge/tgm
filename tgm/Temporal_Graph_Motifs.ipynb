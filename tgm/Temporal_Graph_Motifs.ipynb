{
 "cells": [
  {
   "cell_type": "code",
   "execution_count": null,
   "id": "67d99ae2",
   "metadata": {},
   "outputs": [],
   "source": [
    "import pandas as pd\n",
    "import numpy as np\n",
    "import igraph as ig\n",
    "import tgm"
   ]
  },
  {
   "cell_type": "code",
   "execution_count": null,
   "id": "5ef9533b",
   "metadata": {},
   "outputs": [],
   "source": [
    "%run tgm.py"
   ]
  },
  {
   "cell_type": "markdown",
   "id": "b0182042",
   "metadata": {},
   "source": [
    "## Data Format\n",
    "\n",
    "The data consists of temporal 4- or 5-tuples:\n",
    "* **(event_id, actor_id, time, root_id)**\n",
    "* **(event_id, actor_id, time, root_id, parent_id)**\n",
    "\n",
    "Where:\n",
    "* event_id: is a unique id for each event\n",
    "* actor_id: is the id of the actor/user generating the event\n",
    "* time: in UTC format\n",
    "* root_id: is the id of the root event that this event_id is part of\n",
    "* parent_id: is the id of the parent of this event when events with same root_id have a tree structure; only required if **mode=='hop'** (see details below)\n",
    "\n",
    "Assumption:\n",
    "* event_id == root_id for the root event; in this case, parent_id is meaningless\n",
    "* all events with same root_id can not happen before the root event itself (where event_id == root_id)\n",
    "* if parent_id is present, the parent event can not happen before one of its child event\n",
    "\n",
    "\n",
    "Example:\n",
    "![](Images/events.png)\n"
   ]
  },
  {
   "cell_type": "markdown",
   "id": "70147944",
   "metadata": {},
   "source": [
    "### Read sample data\n"
   ]
  },
  {
   "cell_type": "code",
   "execution_count": null,
   "id": "ca529272",
   "metadata": {},
   "outputs": [],
   "source": [
    "df = pd.read_csv('../../Data/1day.csv')\n"
   ]
  },
  {
   "cell_type": "code",
   "execution_count": null,
   "id": "f5da7c46",
   "metadata": {},
   "outputs": [],
   "source": [
    "df.columns = ['event_id', 'actor_id', 'time', 'root_id', 'parent_id', 'subreddit']"
   ]
  },
  {
   "cell_type": "code",
   "execution_count": null,
   "id": "a0b0c025",
   "metadata": {
    "scrolled": false
   },
   "outputs": [],
   "source": [
    "#df = pd.read_csv('../Data/sample2.csv')\n",
    "print(df.shape)\n",
    "df.head()"
   ]
  },
  {
   "cell_type": "markdown",
   "id": "fedefd1d",
   "metadata": {},
   "source": [
    "### Finding K2h motifs\n",
    "\n",
    "The function **K2h** is called to find temporal motifs. When called first, a DataFrame with the required columns needs to be passed. If the function is called several times for the same dataset (for example, trying different dt and dT parameters), then some speed-up can be achieved as we illustrate below.\n",
    "\n",
    "##### Parameters:\n",
    "\n",
    "* mode: either 'root' (default) or 'hop'; \n",
    " * if mode == 'root', all motifs include the actor_id of the root_id event\n",
    " * if mode == 'hop', all motifs involve actor_id's 1-hop away in the trees of events \n",
    "* df: pandas DataFrame with the required columns:\n",
    " * **event_id**: unique id for each event\n",
    " * **actor_id**: a.k.a. userid\n",
    " * **time**: in seconds, typically UTC\n",
    " * **root_id**: id of the root event that this event_id is part of\n",
    " * **parent_id**: id of the parent event, only required if mode=='hop' \n",
    "* dt: reaction time for the motifs, in seconds\n",
    "* dT: repetition time for the motifs, in seconds\n",
    "* h: the 'h' in K2h, the number of different root_id's in the motifs (>=2)\n",
    "* bg: bipartite graph obtained from a previous call of the 'K2h' function with the same dataframe 'df'; if supplied, 'df' is not required; this will speed-up the computation\n",
    "* verbose: if set, return tuples of root_id's for each motif (default=False)\n",
    "* return_df: if set, also output the results as a pandas DataFrame (default=False)\n",
    "* return_bg: if set, output the bipartite graph that can be re-used for faster subsequent runs of 'K2h' with the same 'mode' value (default=True)\n",
    "\n",
    "Result are pairs of actors, the number of temporal motifs they share and if 'verbose' is set, the list of tuples of root_id's they share. \n",
    "\n",
    "##### Output:    \n",
    "* self.graph: igraph Graph with K2h motifs\n",
    "* self.df: pandas DataFrame with K2h motifs (optional, default=False)\n",
    "* self.bg: igraph multi-bipartite Graph; can be used for faster subsequent runs of 'K2h' with the same 'mode' value (optional, default=True)\n",
    "\n",
    "For the DataFrame output, we also group the authors into weakly connected components, returning the component number for each one.\n"
   ]
  },
  {
   "cell_type": "markdown",
   "id": "109b3298",
   "metadata": {},
   "source": [
    "### (1) root-based motifs"
   ]
  },
  {
   "cell_type": "code",
   "execution_count": null,
   "id": "1c41bcef",
   "metadata": {
    "scrolled": true
   },
   "outputs": [],
   "source": [
    "%%time\n",
    "motifs = tgm.K2h(df=df, dt=300, dT=1800, h=2, return_df=True, verbose=True, mode='root')\n",
    "\n",
    "## result is returned as igraph Graph\n",
    "print('number of motifs (graph):',motifs.graph.ecount())\n",
    "\n",
    "## we also asked for DataFrame output\n",
    "print('number of motifs (dataframe):', motifs.dataframe.shape[0])\n",
    "motifs.dataframe.head()"
   ]
  },
  {
   "cell_type": "markdown",
   "id": "1f39d18f",
   "metadata": {},
   "source": [
    "#### re-running given the bipartite graph from previous run\n",
    "\n",
    "We use the bipartite graph from the previous run for faster (identical) results.\n"
   ]
  },
  {
   "cell_type": "code",
   "execution_count": null,
   "id": "ff96593f",
   "metadata": {
    "scrolled": false
   },
   "outputs": [],
   "source": [
    "%%time\n",
    "motifs = tgm.K2h(return_df=True, verbose=True, dt=300, dT=1800, h=2, bg=motifs.bipartite)\n",
    "motifs.dataframe.head()"
   ]
  },
  {
   "cell_type": "markdown",
   "id": "d74acd51",
   "metadata": {},
   "source": [
    "#### Plot the resulting motif-based graph\n",
    "\n",
    "The **prune_and_color** function can be called given the graph obtained from K2h to:\n",
    "* color nodes as follows:\n",
    "    * red: actors with root events only\n",
    "    * blue: actors without root events\n",
    "    * gold: actors with both types of events\n",
    "* prune edges with respect to a specified **min_weight**, the minimum number of motifs required between actors\n",
    "* prune nodes with respect to a specified **min_size**, the minimum size of weakly connected components to retain\n",
    "\n",
    "We illustrate this below for the sample K2h-graph.\n"
   ]
  },
  {
   "cell_type": "code",
   "execution_count": null,
   "id": "bb4de8e9",
   "metadata": {
    "scrolled": false
   },
   "outputs": [],
   "source": [
    "G = tgm.prune_and_color(motifs.graph, min_weight=2, min_size=3)\n",
    "ig.plot(G, layout=G.layout_fruchterman_reingold(), vertex_size=8, bbox=(0,0,600,350), \n",
    "        edge_color='grey', edge_arrow_size=.5)"
   ]
  },
  {
   "cell_type": "markdown",
   "id": "9adf8679",
   "metadata": {},
   "source": [
    "### (2) hop-based motifs"
   ]
  },
  {
   "cell_type": "code",
   "execution_count": null,
   "id": "77ae4bed",
   "metadata": {
    "scrolled": true
   },
   "outputs": [],
   "source": [
    "%%time\n",
    "motifs = tgm.K2h(df=df, dt=300, dT=1800, h=2, return_df=True, verbose=True, mode='hop')\n",
    "\n",
    "## result is returned as igraph Graph\n",
    "print('number of motifs (graph):',motifs.graph.ecount())\n",
    "\n",
    "## we also asked for DataFrame output\n",
    "print('number of motifs (dataframe):', motifs.dataframe.shape[0])\n",
    "motifs.dataframe.head()"
   ]
  },
  {
   "cell_type": "markdown",
   "id": "73c2e7b0",
   "metadata": {},
   "source": [
    "#### re-running given the bipartite graph from previous run\n",
    "\n",
    "We use the bipartite graph from the previous run for faster (identical) results.\n"
   ]
  },
  {
   "cell_type": "code",
   "execution_count": null,
   "id": "bf5de4df",
   "metadata": {},
   "outputs": [],
   "source": [
    "%%time\n",
    "motifs = tgm.K2h(return_df=True, verbose=True, dt=300, dT=1800, h=2, bg=motifs.bipartite, mode='hop')\n",
    "motifs.dataframe.head()"
   ]
  },
  {
   "cell_type": "markdown",
   "id": "15027e37",
   "metadata": {},
   "source": [
    "#### Plot the resulting motif-based graph\n"
   ]
  },
  {
   "cell_type": "code",
   "execution_count": null,
   "id": "309f7d12",
   "metadata": {},
   "outputs": [],
   "source": [
    "G = tgm.prune_and_color(motifs.graph, min_weight=2, min_size=3)\n",
    "ig.plot(G, layout=G.layout_fruchterman_reingold(), vertex_size=8, bbox=(0,0,600,350), \n",
    "        edge_color='grey', edge_arrow_size=.5, edge_curved=0)"
   ]
  }
 ],
 "metadata": {
  "kernelspec": {
   "display_name": "graphmining",
   "language": "python",
   "name": "graphmining"
  },
  "language_info": {
   "codemirror_mode": {
    "name": "ipython",
    "version": 3
   },
   "file_extension": ".py",
   "mimetype": "text/x-python",
   "name": "python",
   "nbconvert_exporter": "python",
   "pygments_lexer": "ipython3",
   "version": "3.7.9"
  }
 },
 "nbformat": 4,
 "nbformat_minor": 5
}
